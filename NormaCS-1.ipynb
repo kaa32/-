{
 "cells": [
  {
   "cell_type": "markdown",
   "metadata": {},
   "source": [
    "# Вариант работ класса НИОКР с наименованием - к примеру\n",
    "\n",
    "## Сбор подготовка и нормализация данных для подготовки Базы Данных документов НормаСиЭс к семантическому и статистическому анализу, методам семантического поиска, параметризационному разбору и  иным методам аналитической обработки больших массивов данных   \n",
    "\n",
    "### Типовой план проекта Анализа данных  \n",
    "1. Бизнес анализ\n",
    "    * Определение бизнес целей\n",
    "    * Оценка ситуации\n",
    "    * Определение целей анализа \n",
    "    * План проекта\n",
    "2. Анализ данных \n",
    "    * Сбор данных\n",
    "    * Описание данных\n",
    "    * Изучение данных\n",
    "    * Проверка качества данных\n",
    "3. Подготовка данных\n",
    "    * Выборка\n",
    "    * Очистка\n",
    "    * Генерация\n",
    "    * Интеграция\n",
    "    * Форматирование\n",
    "4. Моделирование \n",
    "    * Выбор алгоритмов\n",
    "        Технология выбора инструментов выбора алгоритмов анализа  \n",
    "        http://scikit-learn.org/stable/tutorial/machine_learning_map/index.html   \n",
    "        в зависимости от объемов данных и целей анализа   \n",
    "    * План тестирования\n",
    "    * Обучение моделей\n",
    "    * Оценка качества моделей(предсказаний и анализа)\n",
    "5. Оценка решения \n",
    "    * Оценка результатов \n",
    "    * Оценка проекта\n",
    "    * Корректировка целей проекта и методов решения\n",
    "\n",
    "### Состав команды проекта \n",
    "1. Спонсор (Лицо принимающее решение) способное инициировать проект и проддерживать его развитие (Станислав З. / Андрей Б.)\n",
    "2. Data Science Manager (Белкин)\n",
    "3. Data Scienctist (вырастить из наличного состава или привлечь внешний ресурс)\n",
    "4. Data Engineer - инженер работающий в настоящее время с базой данных - Database architect \n",
    "5. Программист python - научить кого то из имеющихся - задачи не так велики\n",
    "\n",
    "### Что нужно сделать для подготовки проекта \n",
    "1. Изучить схему данных если она существует как диаграмма классов - создать при необходимости \n",
    "2. Выгрузить все даные схемы в плоские таблицы CSV с заголовками полей в первой строке \n",
    "3. Подключить полученные данные и запраграммировать связи - для быстрого формирование выборок\n",
    "4. Произвести оценку количества Нормативных Документов доступных в формате html \n",
    "5. Подготовить автомализацию загрузки текстов документов из базы данных для \n",
    "    * создания обучающих выборок \n",
    "    * загрузки данных для анализа \n",
    "6. Параллельно со всем этим искать модели аналитики по документам, и уточнять известные нам потребности \n",
    "\n",
    "# Что будет результатом проекта \n",
    "\n",
    "В минимальном варианте - полученную структуру данных можно продавать как отдельный пакет - для анализа данных \n",
    "В среднем варианте - подойдем к формированию онтологий и автоматизированному параметрическому парсингу \n",
    "В максимуме - отдельный продукт на базе Базы Данных Норма СиЭс \n",
    "\n",
    "## Оценка сроков \n",
    "От 3 до 6 месяцев\n",
    "\n",
    "## Далее некоторые заготовки и демонстрация технологии  \n",
    "### Объект анализа - База данных Норма СиЭс  \n",
    "\n",
    "Ниже приизведен первичный анализ данных и выемки данных \n",
    "\n",
    "* Парсинг каталога документов \n",
    "* Составление дерева\n",
    "* Загрузка карточек документов \n",
    "* Загрузка документов "
   ]
  },
  {
   "cell_type": "code",
   "execution_count": 1,
   "metadata": {},
   "outputs": [
    {
     "name": "stdout",
     "output_type": "stream",
     "text": [
      "[<meta content=\"text/html; charset=windows-1251\" name=\"Content-Type\"/>, <meta content=\"NormaCS. Нормативные документы. Каталог документов\" name=\"Description\"/>, <meta content=\"NormaCS, Norma CS, нормативный документ, НТД, норматив, Каталог, документов\" name=\"Keywords\"/>, <title>Каталог документов</title>]\n"
     ]
    }
   ],
   "source": [
    "#Инициализация и функции \n",
    "from urllib.request import urlopen\n",
    "from bs4 import BeautifulSoup, SoupStrainer\n",
    "\n",
    "import re\n",
    "\n",
    "def generate_lines(text):\n",
    "    word_re = re.compile(r\"[а-яё]+\")\n",
    "    lines = text.strip().lower().split(\"\\n\")\n",
    "    result = []\n",
    "    for line in lines:\n",
    "        result.append(word_re.findall(line))\n",
    "    return result\n",
    "\n",
    "def catalog_print(page_offset, search_worlds):\n",
    "    page = urlopen(url + page_offset)    \n",
    "    soup_result = BeautifulSoup(page.read(), \"lxml\")\n",
    "    elms = soup.select(search_worlds)\n",
    "    for i in elms: \n",
    "        #print (i, '\\n')\n",
    "        qq =1 \n",
    "        #print(i.attrs[\"href\"])\n",
    "    return \n",
    "\n",
    "#https://news.yandex.ru \n",
    "url = \"http://www.normacs.ru\"\n",
    "page = urlopen(url + '/Doclist')\n",
    "#print (page.headers)\n",
    "\n",
    "soup = BeautifulSoup(page.read(), \"lxml\")\n",
    "print (soup.head())"
   ]
  },
  {
   "cell_type": "code",
   "execution_count": 2,
   "metadata": {},
   "outputs": [
    {
     "name": "stdout",
     "output_type": "stream",
     "text": [
      "<a href=\"/Doclist/classif/16.html\">Автомобильные дороги (Full)</a> \n",
      "\n",
      "<a href=\"/Doclist/classif/6.html\">Автомобильные дороги (Max)</a> \n",
      "\n",
      "<a href=\"/Doclist/classif/7000.html\">Классификатор ISO</a> \n",
      "\n",
      "<a href=\"/Doclist/classif/7001.html\">Национальные стандарты</a> \n",
      "\n",
      "<a href=\"/Doclist/classif/7007.html\">Национальные стандарты по КГС</a> \n",
      "\n",
      "<a href=\"/Doclist/classif/500.html\">ППР по мостам</a> \n",
      "\n",
      "<a href=\"/Doclist/classif/814.html\">ПромЭксперт</a> \n",
      "\n",
      "<a href=\"/Doclist/classif/29.html\">Стандарты организаций</a> \n",
      "\n",
      "<a href=\"/Doclist/classif/800.html\">Стандарты по трубопроводной арматуре (ТПА)</a> \n",
      "\n",
      "<a href=\"/Doclist/classif/9.html\">Строительство (Econom)</a> \n",
      "\n",
      "<a href=\"/Doclist/classif/10.html\">Строительство (Full)</a> \n",
      "\n",
      "<a href=\"/Doclist/classif/11.html\">Строительство (Max)</a> \n",
      "\n",
      "<a href=\"/Doclist/classif/1.html\">Тематические классификаторы ГОСТов</a> \n",
      "\n",
      "<a href=\"/Doclist/classif/2000.html\">Технический надзор</a> \n",
      "\n",
      "<a href=\"/Doclist/classif/4.html\">Ценообразование в строительстве</a> \n",
      "\n",
      "<a href=\"/Doclist/classif/5.html\">Электроэнергетическая отрасль</a> \n",
      "\n"
     ]
    }
   ],
   "source": [
    "# Первый уровень Каталога soup имеет тип tag \n",
    "#print (soup.prettify())\n",
    "#print(soup.findAll ('li', limit=16))\n",
    "\n",
    "search_priznak = \"li a\"\n",
    "\n",
    "elms = soup.select(search_priznak)\n",
    "for i in elms: \n",
    "    print (i, '\\n')\n",
    "    #print(i.attrs[\"href\"])\n",
    "#print ('нужно найчится получить Ссылку и Название отдельно')"
   ]
  },
  {
   "cell_type": "code",
   "execution_count": 3,
   "metadata": {},
   "outputs": [
    {
     "name": "stdout",
     "output_type": "stream",
     "text": [
      "http://www.normacs.ru/Doclist/classif/16.html\n",
      "<a href=\"/Doclist/folder/16730.html\">Инженерные изыскания для строительства автомобильных дорог и искусственных сооружений на них</a> \n",
      "\n",
      "<a href=\"/Doclist/folder/16731.html\">Проектирование, строительство, ремонт и содержание автомобильных дорог</a> \n",
      "\n",
      "<a href=\"/Doclist/folder/16732.html\">Проектирование, строительство, ремонт и содержание искусственных сооружений на автомобильных дорогах</a> \n",
      "\n"
     ]
    }
   ],
   "source": [
    "# Второй уровень каталога \n",
    "url1 = url + '/Doclist/classif/16.html'\n",
    "print (url1)\n",
    "page1 = urlopen(url1)\n",
    "soup1 = BeautifulSoup(page1.read(), \"lxml\")\n",
    "elms1 = soup1.select(\"li a\")\n",
    "for i in elms1: \n",
    "    print (i, '\\n')\n",
    "    #print(i.attrs[\"href\"])"
   ]
  },
  {
   "cell_type": "code",
   "execution_count": 4,
   "metadata": {},
   "outputs": [
    {
     "name": "stdout",
     "output_type": "stream",
     "text": [
      "http://www.normacs.ru/Doclist/folder/16730.html\n",
      "<a href=\"/Doclist/folder/16733.html\">1. Общие вопросы инженерных изысканий</a> \n",
      "\n",
      "<a href=\"/Doclist/folder/16734.html\">2. Инженерно-геодезические изыскания</a> \n",
      "\n",
      "<a href=\"/Doclist/folder/16739.html\">3. Инженерно-геологические изыскания</a> \n",
      "\n",
      "<a href=\"/Doclist/folder/16755.html\">4. Инженерно-гидрометеорологические изыскания</a> \n",
      "\n",
      "<a href=\"/Doclist/folder/16756.html\">5. Фото- и аэрометоды при изысканиях автомобильных дорог</a> \n",
      "\n",
      "<a href=\"/Doclist/folder/16757.html\">6. Экологические изыскания при проектировании автомобильных дорог</a> \n",
      "\n"
     ]
    }
   ],
   "source": [
    "# Третий уровень каталога \n",
    "url11 = url + '/Doclist/folder/16730.html'\n",
    "print (url11)\n",
    "page11 = urlopen(url11)\n",
    "soup11 = BeautifulSoup(page11.read(), \"lxml\")\n",
    "#print (soup1.head())\n",
    "bs11 = soup11\n",
    "\n",
    "elms11 = bs11.select(\"li a\")\n",
    "for i in elms11: \n",
    "    print (i, '\\n')\n",
    "    #print(i.attrs[\"href\"])\n",
    "    \n",
    "url111 = url + '/Doclist/doc/ULB5.html'\n"
   ]
  },
  {
   "cell_type": "code",
   "execution_count": 5,
   "metadata": {},
   "outputs": [
    {
     "name": "stdout",
     "output_type": "stream",
     "text": [
      "http://www.normacs.ru/Doclist/doc/ULB5.html\n",
      "[<b>Поиск по каталогу:</b>, <b>Реквизитный и полнотекстовый поиск документов</b>, <b>Документ входит в следующие классификаторы и разделы</b>, <b>Статус:</b>, <b>Текст документа:</b>, <b>Сканкопия официального издания документа:</b>, <b>Страниц в документе:</b>, <b>Утвержден:</b>, <b>Обозначение:</b>, <b>Наименование:</b>, <b>Область применения:</b>, <b>Дополнительные сведения:</b>]\n",
      "<b>Поиск по каталогу:</b> \n",
      "\n",
      "<b>Реквизитный и полнотекстовый поиск документов</b> \n",
      "\n",
      "<b>Документ входит в следующие классификаторы и разделы</b> \n",
      "\n",
      "<b>Статус:</b> \n",
      "\n",
      "<b>Текст документа:</b> \n",
      "\n",
      "<b>Сканкопия официального издания документа:</b> \n",
      "\n",
      "<b>Страниц в документе:</b> \n",
      "\n",
      "<b>Утвержден:</b> \n",
      "\n",
      "<b>Обозначение:</b> \n",
      "\n",
      "<b>Наименование:</b> \n",
      "\n",
      "<b>Область применения:</b> \n",
      "\n",
      "<b>Дополнительные сведения:</b> \n",
      "\n"
     ]
    }
   ],
   "source": [
    "# Карточка документа \n",
    "print (url111)\n",
    "page111 = urlopen(url111)\n",
    "soup111 = BeautifulSoup(page111.read(), \"lxml\")\n",
    "#print(soup111.prettify())\n",
    "elms111 = soup111.select('b')\n",
    "print (elms111)\n",
    "for i in elms111: \n",
    "    print (i, '\\n')\n",
    "    #print(i.attrs[\"href\"])"
   ]
  },
  {
   "cell_type": "markdown",
   "metadata": {},
   "source": [
    "### Далее собственно качаем файлы ГОСТ-ов желательно в HTML \n",
    "### в целях подготовки текстов под деревья статистических методов \n",
    "### к примеру под частотный анализ - http://nlpx.net/archives/29 "
   ]
  },
  {
   "cell_type": "code",
   "execution_count": 6,
   "metadata": {},
   "outputs": [],
   "source": [
    "# Здесь эмулируется функционал map редьюс - для семантического разбора \n",
    "import matplotlib as mpl\n",
    "import matplotlib.pyplot as plt\n",
    "import numpy as np\n",
    "import urllib.request\n",
    "from collections import defaultdict\n",
    "#import re\n",
    "\n",
    "def generate_lines(text):\n",
    "# Чистим текст в том числе от предлогов    \n",
    "    word_re = re.compile(r\"([а-яё]+)(?<![ и ])(?<![ в ])(?<![ с ])(?<![ по ])(?<![ на ])(?<![ к ])(?<![ их ])(?<![ ил ])(?<![ для ])\")\n",
    "    lines = text.strip().lower().split(\"\\n\")\n",
    "    result = []\n",
    "    for line in lines:\n",
    "        result.append(word_re.findall(line))\n",
    "    return result\n",
    "\n",
    "def run_mapreduce(input, map_fnc, reduce_fnc):\n",
    "    map_result = defaultdict(lambda: [])\n",
    "    for obj in input:\n",
    "        for key, value in map_fnc(obj):\n",
    "            map_result[key].append(value)\n",
    "    \n",
    "    reduce_result = []\n",
    "    for key in map_result:\n",
    "        for key, value in reduce_fnc(key, map_result[key]):\n",
    "            reduce_result.append((key, value))\n",
    "    return reduce_result\n",
    "\n",
    "def map_wordcount(line):\n",
    "    for word in line:\n",
    "        yield(word, 1)\n",
    "\n",
    "def reduce_wordcount(word, counts):\n",
    "    yield word, sum(counts)\n",
    "\n",
    "def text_analyzer(text_url):\n",
    "    # Функция анализирует текст и выдает результат работы по MapReduce\n",
    "    text=urllib.request.urlopen(text_url).read().decode() # Загружаем книгу\n",
    "    lines = generate_lines(text) # Делим книгу на строки\n",
    "    #считаем пары ключ-значение при эмуляции MapReduce\n",
    "    return run_mapreduce(lines, map_wordcount, reduce_wordcount)\n",
    "\n",
    "def top_frequency_words(text, words_count):\n",
    "    # Функция выводит порядковый номер и частоту слова\n",
    "    #Указываем переменные, в которые будем собирать значение\n",
    "    ylist=[]\n",
    "    xlist=[]\n",
    "    i=0\n",
    "    print ('TOP -', words_count,' слов в тексте')\n",
    "    for key, value in sorted(text, key=lambda x: -x[1])[:words_count]:\n",
    "        i=i+1\n",
    "        xlist.append (i)\n",
    "        ylist.append (value)\n",
    "        print (key, value)\n",
    "\n",
    "    return xlist,ylist\n",
    "\n",
    "def graph_builder(x,y, graph_title, axes_texts):\n",
    "    fig = plt.figure()\n",
    "    plt.plot(x, y)\n",
    "\n",
    "    plt.title(graph_title)   # заголовок\n",
    "    plt.ylabel(axes_texts[0])\n",
    "    plt.xlabel(axes_texts[1])\n",
    "    plt.grid(True)\n",
    "    plt.show()    \n",
    "    "
   ]
  },
  {
   "cell_type": "code",
   "execution_count": 7,
   "metadata": {},
   "outputs": [
    {
     "name": "stdout",
     "output_type": "stream",
     "text": [
      "TOP - 20  слов в тексте\n",
      "документ 136\n",
      "пр 112\n",
      "описание 109\n",
      "разделе 97\n",
      "средст 86\n",
      "системы 85\n",
      "перечень 83\n",
      "данны 82\n",
      "информац 61\n",
      "указывают 59\n",
      "содержит 58\n",
      "приводят 54\n",
      "испытаний 53\n",
      "техниче 50\n",
      "организац 49\n",
      "сведе 46\n",
      "треб 45\n",
      "обеспече 43\n",
      "наименование 42\n",
      "объект 39\n"
     ]
    },
    {
     "data": {
      "image/png": "[encoded data removed]",
      "text/plain": [
       "<matplotlib.figure.Figure at 0x1088f0eb8>"
      ]
     },
     "metadata": {},
     "output_type": "display_data"
    }
   ],
   "source": [
    "# Это Main функция\n",
    "# Загружаем текст и выполняем подсчет колиества повтров слов - формируем словарь \n",
    "transformed_text = text_analyzer ('http://www.prj-exp.ru/gost/rd_50-34-698-90.php')\n",
    "#print(transformed_text)\n",
    "# Из всех слов берем первые 20 и готовим переменные для графика\n",
    "x, y = top_frequency_words(transformed_text, 20) \n",
    "\n",
    "# Строим график распределения\n",
    "graph_builder(x,y,'Распределение первых 20-ти слов по Закону Ципфа',['Частота' ,'Количество слов'])\n"
   ]
  },
  {
   "cell_type": "code",
   "execution_count": null,
   "metadata": {
    "collapsed": true
   },
   "outputs": [],
   "source": []
  }
 ],
 "metadata": {
  "kernelspec": {
   "display_name": "Python 3",
   "language": "python",
   "name": "python3"
  },
  "language_info": {
   "codemirror_mode": {
    "name": "ipython",
    "version": 3
   },
   "file_extension": ".py",
   "mimetype": "text/x-python",
   "name": "python",
   "nbconvert_exporter": "python",
   "pygments_lexer": "ipython3",
   "version": "3.6.1"
  }
 },
 "nbformat": 4,
 "nbformat_minor": 2
}
